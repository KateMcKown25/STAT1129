{
 "cells": [
  {
   "cell_type": "code",
   "execution_count": 6,
   "metadata": {},
   "outputs": [
    {
     "name": "stdout",
     "output_type": "stream",
     "text": [
      "not a good idea to sell\n"
     ]
    }
   ],
   "source": [
    "purchase = 100\n",
    "current = 80\n",
    "if current < purchase*0.9:\n",
    "    print (\"not a good idea to sell\")\n",
    "elif current > purchase *1.2:\n",
    "    print (\"you will make money \", current-purchase)\n",
    "else:\n",
    "    print (\"not worth selling right now\")"
   ]
  },
  {
   "cell_type": "code",
   "execution_count": 8,
   "metadata": {},
   "outputs": [
    {
     "name": "stdout",
     "output_type": "stream",
     "text": [
      "not a good idea to sell\n"
     ]
    }
   ],
   "source": [
    "purchase = 100\n",
    "current = 150\n",
    "if current > purchase*0.9:\n",
    "    print (\"not a good idea to sell\")\n",
    "elif current > purchase *1.2:\n",
    "    print (\"you will make money \", current-purchase)\n",
    "else:\n",
    "    print (\"not worth selling right now\")"
   ]
  },
  {
   "cell_type": "code",
   "execution_count": null,
   "metadata": {},
   "outputs": [],
   "source": []
  }
 ],
 "metadata": {
  "kernelspec": {
   "display_name": "Python 3",
   "language": "python",
   "name": "python3"
  },
  "language_info": {
   "codemirror_mode": {
    "name": "ipython",
    "version": 3
   },
   "file_extension": ".py",
   "mimetype": "text/x-python",
   "name": "python",
   "nbconvert_exporter": "python",
   "pygments_lexer": "ipython3",
   "version": "3.8.5"
  }
 },
 "nbformat": 4,
 "nbformat_minor": 4
}
