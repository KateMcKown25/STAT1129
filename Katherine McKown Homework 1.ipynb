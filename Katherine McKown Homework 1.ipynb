{
  "nbformat": 4,
  "nbformat_minor": 0,
  "metadata": {
    "colab": {
      "provenance": [],
      "collapsed_sections": [],
      "authorship_tag": "ABX9TyO7WgdGN0Hx+vi9bTKNqYzO",
      "include_colab_link": true
    },
    "kernelspec": {
      "name": "python3",
      "display_name": "Python 3"
    },
    "language_info": {
      "name": "python"
    }
  },
  "cells": [
    {
      "cell_type": "markdown",
      "metadata": {
        "id": "view-in-github",
        "colab_type": "text"
      },
      "source": [
        "<a href=\"https://colab.research.google.com/github/KateMcKown25/STAT1129/blob/main/Homework1.ipynb\" target=\"_parent\"><img src=\"https://colab.research.google.com/assets/colab-badge.svg\" alt=\"Open In Colab\"/></a>"
      ]
    },
    {
      "cell_type": "markdown",
      "source": [
        "#Question one"
      ],
      "metadata": {
        "id": "_moT_cHPCEJD"
      }
    },
    {
      "cell_type": "code",
      "execution_count": 123,
      "metadata": {
        "colab": {
          "base_uri": "https://localhost:8080/"
        },
        "id": "lYQkc5cFBfg0",
        "outputId": "73e4d8cc-09a0-464c-8a74-7f363183d1a9"
      },
      "outputs": [
        {
          "output_type": "stream",
          "name": "stdout",
          "text": [
            "<class 'list'>\n",
            "[30, 35, 40, 45, 50, 55]\n"
          ]
        }
      ],
      "source": [
        "#Generating list\n",
        "gen_list = list(range(30, 60, 5))\n",
        "print(type(gen_list))\n",
        "print(gen_list)"
      ]
    },
    {
      "cell_type": "code",
      "source": [
        "#gen_list in reverse\n",
        "gen_list.reverse()\n",
        "print('Reversed List', gen_list)"
      ],
      "metadata": {
        "colab": {
          "base_uri": "https://localhost:8080/"
        },
        "id": "FDuVXxXqCJiZ",
        "outputId": "ea288b9c-138d-4f03-9e56-7139b4c06d92"
      },
      "execution_count": 124,
      "outputs": [
        {
          "output_type": "stream",
          "name": "stdout",
          "text": [
            "Reversed List [55, 50, 45, 40, 35, 30]\n"
          ]
        }
      ]
    },
    {
      "cell_type": "code",
      "source": [
        "#Inserting 65 into list\n",
        "gen_list.insert(0,65)\n",
        "print(gen_list)"
      ],
      "metadata": {
        "id": "EjyRsD7yI4ac",
        "colab": {
          "base_uri": "https://localhost:8080/"
        },
        "outputId": "52cfabeb-d5b3-4e86-9fb2-2f87446149af"
      },
      "execution_count": 125,
      "outputs": [
        {
          "output_type": "stream",
          "name": "stdout",
          "text": [
            "[65, 55, 50, 45, 40, 35, 30]\n"
          ]
        }
      ]
    },
    {
      "cell_type": "markdown",
      "source": [
        "#Question 2"
      ],
      "metadata": {
        "id": "LWjCHRkSDBMi"
      }
    },
    {
      "cell_type": "code",
      "source": [
        "#Creating an empty list\n",
        "empty_sample = list()\n",
        "print(type(empty_sample))\n",
        "print(empty_sample)\n",
        "len(empty_sample)"
      ],
      "metadata": {
        "id": "clOwz8ABDYrL",
        "colab": {
          "base_uri": "https://localhost:8080/"
        },
        "outputId": "e032c979-ea93-462c-e109-7086a4014962"
      },
      "execution_count": 107,
      "outputs": [
        {
          "output_type": "stream",
          "name": "stdout",
          "text": [
            "<class 'list'>\n",
            "[]\n"
          ]
        },
        {
          "output_type": "execute_result",
          "data": {
            "text/plain": [
              "0"
            ]
          },
          "metadata": {},
          "execution_count": 107
        }
      ]
    },
    {
      "cell_type": "code",
      "source": [
        "#Appending integers 0 through 20\n",
        "empty_sample.append(list(range(0,21,1)))\n",
        "print(empty_sample)"
      ],
      "metadata": {
        "colab": {
          "base_uri": "https://localhost:8080/"
        },
        "id": "MdrSX-rirZwt",
        "outputId": "961855e7-ab73-453e-87ce-3e62402faea4"
      },
      "execution_count": 108,
      "outputs": [
        {
          "output_type": "stream",
          "name": "stdout",
          "text": [
            "[[0, 1, 2, 3, 4, 5, 6, 7, 8, 9, 10, 11, 12, 13, 14, 15, 16, 17, 18, 19, 20]]\n"
          ]
        }
      ]
    },
    {
      "cell_type": "code",
      "source": [
        "empty_sample = list(range(0,21,1))\n",
        "print(empty_sample)"
      ],
      "metadata": {
        "colab": {
          "base_uri": "https://localhost:8080/"
        },
        "id": "Ys9mTj2W151B",
        "outputId": "ddbd0d85-1780-44ad-b9eb-1c989f0ed4bf"
      },
      "execution_count": 109,
      "outputs": [
        {
          "output_type": "stream",
          "name": "stdout",
          "text": [
            "[0, 1, 2, 3, 4, 5, 6, 7, 8, 9, 10, 11, 12, 13, 14, 15, 16, 17, 18, 19, 20]\n"
          ]
        }
      ]
    },
    {
      "cell_type": "code",
      "source": [
        "#Deleting item 0\n",
        "empty_sample.remove(0)\n",
        "print(empty_sample)"
      ],
      "metadata": {
        "colab": {
          "base_uri": "https://localhost:8080/"
        },
        "id": "IvyyFP0RVMgI",
        "outputId": "53093206-3460-4f82-d32f-3baa8a000884"
      },
      "execution_count": 110,
      "outputs": [
        {
          "output_type": "stream",
          "name": "stdout",
          "text": [
            "[1, 2, 3, 4, 5, 6, 7, 8, 9, 10, 11, 12, 13, 14, 15, 16, 17, 18, 19, 20]\n"
          ]
        }
      ]
    },
    {
      "cell_type": "code",
      "source": [
        "#Returning min list value\n",
        "min(empty_sample)"
      ],
      "metadata": {
        "id": "Tc8MnTyJVPe7",
        "colab": {
          "base_uri": "https://localhost:8080/"
        },
        "outputId": "731d4600-19d6-4dfb-c15c-1ac1ce8cf506"
      },
      "execution_count": 111,
      "outputs": [
        {
          "output_type": "execute_result",
          "data": {
            "text/plain": [
              "1"
            ]
          },
          "metadata": {},
          "execution_count": 111
        }
      ]
    },
    {
      "cell_type": "code",
      "source": [
        "#Returning max list value\n",
        "max(empty_sample)"
      ],
      "metadata": {
        "colab": {
          "base_uri": "https://localhost:8080/"
        },
        "id": "HK5q8aWi2pWx",
        "outputId": "dc367e3b-e3ef-4783-9347-a084a6ca815c"
      },
      "execution_count": 112,
      "outputs": [
        {
          "output_type": "execute_result",
          "data": {
            "text/plain": [
              "20"
            ]
          },
          "metadata": {},
          "execution_count": 112
        }
      ]
    },
    {
      "cell_type": "code",
      "source": [
        "#Returning length\n",
        "len(empty_sample)"
      ],
      "metadata": {
        "colab": {
          "base_uri": "https://localhost:8080/"
        },
        "id": "bxyJtBp33HF0",
        "outputId": "9cbdc8f9-8ef6-407e-a1b4-9e9442f2e446"
      },
      "execution_count": 113,
      "outputs": [
        {
          "output_type": "execute_result",
          "data": {
            "text/plain": [
              "20"
            ]
          },
          "metadata": {},
          "execution_count": 113
        }
      ]
    },
    {
      "cell_type": "code",
      "source": [
        "#Summing the items\n",
        "sum(empty_sample)"
      ],
      "metadata": {
        "id": "VpL_b0cjVXFX",
        "colab": {
          "base_uri": "https://localhost:8080/"
        },
        "outputId": "6c58225f-40de-44c6-b08d-420d3475aa33"
      },
      "execution_count": 114,
      "outputs": [
        {
          "output_type": "execute_result",
          "data": {
            "text/plain": [
              "210"
            ]
          },
          "metadata": {},
          "execution_count": 114
        }
      ]
    },
    {
      "cell_type": "markdown",
      "source": [
        "#Question 3"
      ],
      "metadata": {
        "id": "phG3oRvrSU5Y"
      }
    },
    {
      "cell_type": "code",
      "source": [
        "#Creating a weather dictionary\n",
        "Weather = {'Sunny':'play',\n",
        "           'Rainy':'watch TV',\n",
        "           'Cloudy':'walk'}\n",
        "print(type(Weather))\n",
        "print(Weather)\n",
        "for weather in Weather:\n",
        "  print(\"If it's\", weather, \"let's\", Weather[weather])"
      ],
      "metadata": {
        "id": "DcvfNiwuSTRp",
        "colab": {
          "base_uri": "https://localhost:8080/"
        },
        "outputId": "adaf9d98-8bd6-4968-a715-fcb7249dc630"
      },
      "execution_count": null,
      "outputs": [
        {
          "output_type": "stream",
          "name": "stdout",
          "text": [
            "<class 'dict'>\n",
            "{'Sunny': 'play', 'Rainy': 'watch TV', 'Cloudy': 'walk'}\n",
            "If it's Sunny let's play\n",
            "If it's Rainy let's watch TV\n",
            "If it's Cloudy let's walk\n"
          ]
        }
      ]
    },
    {
      "cell_type": "code",
      "source": [
        "#Inserting (\"snowy\", \"ski\") into the dictionary\n",
        "Weather.update({'snowy':'ski'})\n",
        "print(Weather)"
      ],
      "metadata": {
        "colab": {
          "base_uri": "https://localhost:8080/"
        },
        "id": "OFVvgjmQVgm5",
        "outputId": "4543acd2-4a93-4d8f-d092-0342a13df5c9"
      },
      "execution_count": null,
      "outputs": [
        {
          "output_type": "stream",
          "name": "stdout",
          "text": [
            "{'Sunny': 'play', 'Rainy': 'watch TV', 'Cloudy': 'walk', 'snowy': 'ski'}\n"
          ]
        }
      ]
    }
  ]
}
