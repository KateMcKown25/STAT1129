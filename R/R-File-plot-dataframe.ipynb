{
 "cells": [
  {
   "cell_type": "code",
   "execution_count": 3,
   "metadata": {},
   "outputs": [
    {
     "data": {
      "text/html": [
       "<table>\n",
       "<thead><tr><th scope=col>Duration</th><th scope=col>Pulse</th><th scope=col>Maxpulse</th><th scope=col>Calories</th></tr></thead>\n",
       "<tbody>\n",
       "\t<tr><td>60   </td><td>110  </td><td>130  </td><td>409.1</td></tr>\n",
       "\t<tr><td>60   </td><td>117  </td><td>145  </td><td>479.0</td></tr>\n",
       "\t<tr><td>60   </td><td>103  </td><td>135  </td><td>340.0</td></tr>\n",
       "\t<tr><td>45   </td><td>109  </td><td>175  </td><td>282.4</td></tr>\n",
       "\t<tr><td>45   </td><td>117  </td><td>148  </td><td>406.0</td></tr>\n",
       "\t<tr><td>60   </td><td>102  </td><td>127  </td><td>300.0</td></tr>\n",
       "</tbody>\n",
       "</table>\n"
      ],
      "text/latex": [
       "\\begin{tabular}{r|llll}\n",
       " Duration & Pulse & Maxpulse & Calories\\\\\n",
       "\\hline\n",
       "\t 60    & 110   & 130   & 409.1\\\\\n",
       "\t 60    & 117   & 145   & 479.0\\\\\n",
       "\t 60    & 103   & 135   & 340.0\\\\\n",
       "\t 45    & 109   & 175   & 282.4\\\\\n",
       "\t 45    & 117   & 148   & 406.0\\\\\n",
       "\t 60    & 102   & 127   & 300.0\\\\\n",
       "\\end{tabular}\n"
      ],
      "text/markdown": [
       "\n",
       "| Duration | Pulse | Maxpulse | Calories |\n",
       "|---|---|---|---|\n",
       "| 60    | 110   | 130   | 409.1 |\n",
       "| 60    | 117   | 145   | 479.0 |\n",
       "| 60    | 103   | 135   | 340.0 |\n",
       "| 45    | 109   | 175   | 282.4 |\n",
       "| 45    | 117   | 148   | 406.0 |\n",
       "| 60    | 102   | 127   | 300.0 |\n",
       "\n"
      ],
      "text/plain": [
       "  Duration Pulse Maxpulse Calories\n",
       "1 60       110   130      409.1   \n",
       "2 60       117   145      479.0   \n",
       "3 60       103   135      340.0   \n",
       "4 45       109   175      282.4   \n",
       "5 45       117   148      406.0   \n",
       "6 60       102   127      300.0   "
      ]
     },
     "metadata": {},
     "output_type": "display_data"
    }
   ],
   "source": [
    "ff = read.csv('data.csv')\n",
    "head(ff)"
   ]
  },
  {
   "cell_type": "markdown",
   "metadata": {},
   "source": [
    "plot data frame"
   ]
  },
  {
   "cell_type": "code",
   "execution_count": 4,
   "metadata": {},
   "outputs": [
    {
     "data": {
      "text/html": [
       "79"
      ],
      "text/latex": [
       "79"
      ],
      "text/markdown": [
       "79"
      ],
      "text/plain": [
       "[1] 79"
      ]
     },
     "metadata": {},
     "output_type": "display_data"
    }
   ],
   "source": [
    "sum(ff$Duration == '60')"
   ]
  },
  {
   "cell_type": "code",
   "execution_count": 5,
   "metadata": {},
   "outputs": [
    {
     "data": {
      "text/plain": [
       "\n",
       " 15  20  25  30  45  60  75  80  90 120 150 160 180 210 270 300 \n",
       "  2   9   1  16  35  79   2   1   8   3   4   2   3   2   1   1 "
      ]
     },
     "metadata": {},
     "output_type": "display_data"
    }
   ],
   "source": [
    "table(ff$Duration)"
   ]
  },
  {
   "cell_type": "code",
   "execution_count": 12,
   "metadata": {},
   "outputs": [
    {
     "data": {
      "image/png": "[encoded data removed]",
      "text/plain": [
       "Plot with title \"Calories and Duration\""
      ]
     },
     "metadata": {},
     "output_type": "display_data"
    }
   ],
   "source": [
    "boxplot(split(ff$Calories, ff$Duration),main='Calories and Duration')"
   ]
  },
  {
   "cell_type": "code",
   "execution_count": 14,
   "metadata": {},
   "outputs": [
    {
     "data": {
      "image/png": "[encoded data removed]",
      "text/plain": [
       "plot without title"
      ]
     },
     "metadata": {},
     "output_type": "display_data"
    }
   ],
   "source": [
    "with(ff,plot(Duration, Calories))"
   ]
  },
  {
   "cell_type": "markdown",
   "metadata": {},
   "source": [
    "add color\n"
   ]
  },
  {
   "cell_type": "code",
   "execution_count": 17,
   "metadata": {},
   "outputs": [],
   "source": [
    "mycolors = c('red','yellow','blue','green','orange','violet')"
   ]
  },
  {
   "cell_type": "code",
   "execution_count": 19,
   "metadata": {},
   "outputs": [
    {
     "data": {
      "image/png": "[encoded data removed]",
      "text/plain": [
       "plot without title"
      ]
     },
     "metadata": {},
     "output_type": "display_data"
    }
   ],
   "source": [
    "with(ff,plot(Duration, Calories, col=mycolors))"
   ]
  },
  {
   "cell_type": "code",
   "execution_count": null,
   "metadata": {},
   "outputs": [],
   "source": []
  },
  {
   "cell_type": "code",
   "execution_count": null,
   "metadata": {},
   "outputs": [],
   "source": []
  },
  {
   "cell_type": "code",
   "execution_count": null,
   "metadata": {},
   "outputs": [],
   "source": []
  },
  {
   "cell_type": "code",
   "execution_count": null,
   "metadata": {},
   "outputs": [],
   "source": []
  },
  {
   "cell_type": "code",
   "execution_count": null,
   "metadata": {},
   "outputs": [],
   "source": []
  },
  {
   "cell_type": "code",
   "execution_count": null,
   "metadata": {},
   "outputs": [],
   "source": []
  },
  {
   "cell_type": "code",
   "execution_count": null,
   "metadata": {},
   "outputs": [],
   "source": []
  },
  {
   "cell_type": "code",
   "execution_count": null,
   "metadata": {},
   "outputs": [],
   "source": []
  },
  {
   "cell_type": "code",
   "execution_count": null,
   "metadata": {},
   "outputs": [],
   "source": []
  },
  {
   "cell_type": "code",
   "execution_count": null,
   "metadata": {},
   "outputs": [],
   "source": []
  },
  {
   "cell_type": "code",
   "execution_count": null,
   "metadata": {},
   "outputs": [],
   "source": []
  },
  {
   "cell_type": "markdown",
   "metadata": {},
   "source": []
  },
  {
   "cell_type": "code",
   "execution_count": null,
   "metadata": {},
   "outputs": [],
   "source": []
  },
  {
   "cell_type": "code",
   "execution_count": null,
   "metadata": {},
   "outputs": [],
   "source": []
  },
  {
   "cell_type": "code",
   "execution_count": null,
   "metadata": {},
   "outputs": [],
   "source": []
  },
  {
   "cell_type": "code",
   "execution_count": null,
   "metadata": {},
   "outputs": [],
   "source": []
  },
  {
   "cell_type": "code",
   "execution_count": null,
   "metadata": {},
   "outputs": [],
   "source": []
  },
  {
   "cell_type": "code",
   "execution_count": null,
   "metadata": {},
   "outputs": [],
   "source": []
  },
  {
   "cell_type": "code",
   "execution_count": null,
   "metadata": {},
   "outputs": [],
   "source": []
  },
  {
   "cell_type": "code",
   "execution_count": null,
   "metadata": {},
   "outputs": [],
   "source": []
  }
 ],
 "metadata": {
  "kernelspec": {
   "display_name": "R",
   "language": "R",
   "name": "ir"
  },
  "language_info": {
   "codemirror_mode": "r",
   "file_extension": ".r",
   "mimetype": "text/x-r-source",
   "name": "R",
   "pygments_lexer": "r",
   "version": "3.6.1"
  }
 },
 "nbformat": 4,
 "nbformat_minor": 4
}
