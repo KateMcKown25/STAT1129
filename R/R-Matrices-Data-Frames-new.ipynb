{
 "cells": [
  {
   "cell_type": "code",
   "execution_count": 10,
   "metadata": {},
   "outputs": [
    {
     "data": {
      "text/html": [
       "<table>\n",
       "<tbody>\n",
       "\t<tr><td>1</td><td>4</td><td>7</td></tr>\n",
       "\t<tr><td>2</td><td>5</td><td>8</td></tr>\n",
       "\t<tr><td>3</td><td>6</td><td>9</td></tr>\n",
       "</tbody>\n",
       "</table>\n"
      ],
      "text/latex": [
       "\\begin{tabular}{lll}\n",
       "\t 1 & 4 & 7\\\\\n",
       "\t 2 & 5 & 8\\\\\n",
       "\t 3 & 6 & 9\\\\\n",
       "\\end{tabular}\n"
      ],
      "text/markdown": [
       "\n",
       "| 1 | 4 | 7 |\n",
       "| 2 | 5 | 8 |\n",
       "| 3 | 6 | 9 |\n",
       "\n"
      ],
      "text/plain": [
       "     [,1] [,2] [,3]\n",
       "[1,] 1    4    7   \n",
       "[2,] 2    5    8   \n",
       "[3,] 3    6    9   "
      ]
     },
     "metadata": {},
     "output_type": "display_data"
    }
   ],
   "source": [
    "# Create a matrix\n",
    "thismatrix <- matrix(c(1,2,3,4,5,6,7,8,9), nrow = 3, ncol = 3)\n",
    "\n",
    "# Print the matrix\n",
    "thismatrix"
   ]
  },
  {
   "cell_type": "markdown",
   "metadata": {},
   "source": [
    "R-Matrices"
   ]
  },
  {
   "cell_type": "code",
   "execution_count": 1,
   "metadata": {},
   "outputs": [
    {
     "data": {
      "text/html": [
       "<table>\n",
       "<tbody>\n",
       "\t<tr><td>apple </td><td>cherry</td></tr>\n",
       "\t<tr><td>banana</td><td>orange</td></tr>\n",
       "</tbody>\n",
       "</table>\n"
      ],
      "text/latex": [
       "\\begin{tabular}{ll}\n",
       "\t apple  & cherry\\\\\n",
       "\t banana & orange\\\\\n",
       "\\end{tabular}\n"
      ],
      "text/markdown": [
       "\n",
       "| apple  | cherry |\n",
       "| banana | orange |\n",
       "\n"
      ],
      "text/plain": [
       "     [,1]   [,2]  \n",
       "[1,] apple  cherry\n",
       "[2,] banana orange"
      ]
     },
     "metadata": {},
     "output_type": "display_data"
    },
    {
     "data": {
      "text/html": [
       "'cherry'"
      ],
      "text/latex": [
       "'cherry'"
      ],
      "text/markdown": [
       "'cherry'"
      ],
      "text/plain": [
       "[1] \"cherry\""
      ]
     },
     "metadata": {},
     "output_type": "display_data"
    }
   ],
   "source": [
    "thismatrix <- matrix(c(\"apple\", \"banana\", \"cherry\", \"orange\"), nrow = 2, ncol = 2)\n",
    "\n",
    "thismatrix\n",
    "thismatrix[1, 2]"
   ]
  },
  {
   "cell_type": "code",
   "execution_count": 2,
   "metadata": {},
   "outputs": [
    {
     "data": {
      "text/html": [
       "<table>\n",
       "<tbody>\n",
       "\t<tr><td>apple    </td><td>pineapple</td></tr>\n",
       "\t<tr><td>banana   </td><td>pear     </td></tr>\n",
       "\t<tr><td>cherry   </td><td>melon    </td></tr>\n",
       "\t<tr><td>orange   </td><td>fig      </td></tr>\n",
       "\t<tr><td>grape    </td><td>water    </td></tr>\n",
       "</tbody>\n",
       "</table>\n"
      ],
      "text/latex": [
       "\\begin{tabular}{ll}\n",
       "\t apple     & pineapple\\\\\n",
       "\t banana    & pear     \\\\\n",
       "\t cherry    & melon    \\\\\n",
       "\t orange    & fig      \\\\\n",
       "\t grape     & water    \\\\\n",
       "\\end{tabular}\n"
      ],
      "text/markdown": [
       "\n",
       "| apple     | pineapple |\n",
       "| banana    | pear      |\n",
       "| cherry    | melon     |\n",
       "| orange    | fig       |\n",
       "| grape     | water     |\n",
       "\n"
      ],
      "text/plain": [
       "     [,1]   [,2]     \n",
       "[1,] apple  pineapple\n",
       "[2,] banana pear     \n",
       "[3,] cherry melon    \n",
       "[4,] orange fig      \n",
       "[5,] grape  water    "
      ]
     },
     "metadata": {},
     "output_type": "display_data"
    }
   ],
   "source": [
    "thismatrix <- matrix(c(\"apple\", \"banana\", \"cherry\", \"orange\",\"grape\", \"pineapple\", \n",
    "                       \"pear\", \"melon\", \"fig\", \"water\"), nrow = 5, ncol = 2)\n",
    "thismatrix\n"
   ]
  },
  {
   "cell_type": "code",
   "execution_count": 22,
   "metadata": {},
   "outputs": [
    {
     "data": {
      "text/html": [
       "<table>\n",
       "<tbody>\n",
       "\t<tr><td>apple    </td><td>pineapple</td></tr>\n",
       "\t<tr><td>banana   </td><td>pear     </td></tr>\n",
       "\t<tr><td>grape    </td><td>water    </td></tr>\n",
       "</tbody>\n",
       "</table>\n"
      ],
      "text/latex": [
       "\\begin{tabular}{ll}\n",
       "\t apple     & pineapple\\\\\n",
       "\t banana    & pear     \\\\\n",
       "\t grape     & water    \\\\\n",
       "\\end{tabular}\n"
      ],
      "text/markdown": [
       "\n",
       "| apple     | pineapple |\n",
       "| banana    | pear      |\n",
       "| grape     | water     |\n",
       "\n"
      ],
      "text/plain": [
       "     [,1]   [,2]     \n",
       "[1,] apple  pineapple\n",
       "[2,] banana pear     \n",
       "[3,] grape  water    "
      ]
     },
     "metadata": {},
     "output_type": "display_data"
    }
   ],
   "source": [
    "thismatrix[c(1,2,5),]"
   ]
  },
  {
   "cell_type": "code",
   "execution_count": 23,
   "metadata": {},
   "outputs": [
    {
     "data": {
      "text/html": [
       "FALSE"
      ],
      "text/latex": [
       "FALSE"
      ],
      "text/markdown": [
       "FALSE"
      ],
      "text/plain": [
       "[1] FALSE"
      ]
     },
     "metadata": {},
     "output_type": "display_data"
    }
   ],
   "source": [
    "thismatrix <- matrix(c(\"apple\", \"banana\", \"cherry\", \"orange\"), nrow = 2, ncol = 2)\n",
    "\n",
    "\"grape\" %in% thismatrix"
   ]
  },
  {
   "cell_type": "code",
   "execution_count": 15,
   "metadata": {},
   "outputs": [
    {
     "data": {
      "text/html": [
       "<table>\n",
       "<tbody>\n",
       "\t<tr><td>apple    </td><td>orange   </td><td>pear     </td></tr>\n",
       "\t<tr><td>banana   </td><td>grape    </td><td>melon    </td></tr>\n",
       "\t<tr><td>cherry   </td><td>pineapple</td><td>fig      </td></tr>\n",
       "</tbody>\n",
       "</table>\n"
      ],
      "text/latex": [
       "\\begin{tabular}{lll}\n",
       "\t apple     & orange    & pear     \\\\\n",
       "\t banana    & grape     & melon    \\\\\n",
       "\t cherry    & pineapple & fig      \\\\\n",
       "\\end{tabular}\n"
      ],
      "text/markdown": [
       "\n",
       "| apple     | orange    | pear      |\n",
       "| banana    | grape     | melon     |\n",
       "| cherry    | pineapple | fig       |\n",
       "\n"
      ],
      "text/plain": [
       "     [,1]   [,2]      [,3] \n",
       "[1,] apple  orange    pear \n",
       "[2,] banana grape     melon\n",
       "[3,] cherry pineapple fig  "
      ]
     },
     "metadata": {},
     "output_type": "display_data"
    }
   ],
   "source": [
    "thismatrix <- matrix(c(\"apple\", \"banana\", \"cherry\", \"orange\",\"grape\", \"pineapple\", \"pear\", \"melon\", \"fig\"), nrow = 3, ncol = 3)\n",
    "\n",
    "thismatrix\n",
    "\n"
   ]
  },
  {
   "cell_type": "code",
   "execution_count": 16,
   "metadata": {},
   "outputs": [
    {
     "data": {
      "text/html": [
       "<table>\n",
       "<tbody>\n",
       "\t<tr><td>grape    </td><td>melon    </td></tr>\n",
       "\t<tr><td>pineapple</td><td>fig      </td></tr>\n",
       "</tbody>\n",
       "</table>\n"
      ],
      "text/latex": [
       "\\begin{tabular}{ll}\n",
       "\t grape     & melon    \\\\\n",
       "\t pineapple & fig      \\\\\n",
       "\\end{tabular}\n"
      ],
      "text/markdown": [
       "\n",
       "| grape     | melon     |\n",
       "| pineapple | fig       |\n",
       "\n"
      ],
      "text/plain": [
       "     [,1]      [,2] \n",
       "[1,] grape     melon\n",
       "[2,] pineapple fig  "
      ]
     },
     "metadata": {},
     "output_type": "display_data"
    }
   ],
   "source": [
    "thismatrix <- thismatrix[-c(1), -c(1) ]\n",
    "thismatrix"
   ]
  },
  {
   "cell_type": "markdown",
   "metadata": {},
   "source": [
    "use rbind() to add additional rows"
   ]
  },
  {
   "cell_type": "code",
   "execution_count": 4,
   "metadata": {},
   "outputs": [
    {
     "data": {
      "text/html": [
       "<table>\n",
       "<tbody>\n",
       "\t<tr><td>apple     </td><td>orange    </td><td>pear      </td></tr>\n",
       "\t<tr><td>banana    </td><td>grape     </td><td>melon     </td></tr>\n",
       "\t<tr><td>cherry    </td><td>pineapple </td><td>fig       </td></tr>\n",
       "\t<tr><td>strawberry</td><td>blueberry </td><td>raspberry </td></tr>\n",
       "</tbody>\n",
       "</table>\n"
      ],
      "text/latex": [
       "\\begin{tabular}{lll}\n",
       "\t apple      & orange     & pear      \\\\\n",
       "\t banana     & grape      & melon     \\\\\n",
       "\t cherry     & pineapple  & fig       \\\\\n",
       "\t strawberry & blueberry  & raspberry \\\\\n",
       "\\end{tabular}\n"
      ],
      "text/markdown": [
       "\n",
       "| apple      | orange     | pear       |\n",
       "| banana     | grape      | melon      |\n",
       "| cherry     | pineapple  | fig        |\n",
       "| strawberry | blueberry  | raspberry  |\n",
       "\n"
      ],
      "text/plain": [
       "     [,1]       [,2]      [,3]     \n",
       "[1,] apple      orange    pear     \n",
       "[2,] banana     grape     melon    \n",
       "[3,] cherry     pineapple fig      \n",
       "[4,] strawberry blueberry raspberry"
      ]
     },
     "metadata": {},
     "output_type": "display_data"
    }
   ],
   "source": [
    "newmatrix <- rbind(thismatrix, c(\"strawberry\", \"blueberry\", \"raspberry\"))\n",
    "\n",
    "# Print the new matrix\n",
    "newmatrix"
   ]
  },
  {
   "cell_type": "markdown",
   "metadata": {},
   "source": [
    "use cbind() to add additional columns"
   ]
  },
  {
   "cell_type": "code",
   "execution_count": 5,
   "metadata": {},
   "outputs": [
    {
     "data": {
      "text/html": [
       "<table>\n",
       "<tbody>\n",
       "\t<tr><td>apple     </td><td>orange    </td><td>pear      </td><td>strawberry</td></tr>\n",
       "\t<tr><td>banana    </td><td>grape     </td><td>melon     </td><td>blueberry </td></tr>\n",
       "\t<tr><td>cherry    </td><td>pineapple </td><td>fig       </td><td>raspberry </td></tr>\n",
       "</tbody>\n",
       "</table>\n"
      ],
      "text/latex": [
       "\\begin{tabular}{llll}\n",
       "\t apple      & orange     & pear       & strawberry\\\\\n",
       "\t banana     & grape      & melon      & blueberry \\\\\n",
       "\t cherry     & pineapple  & fig        & raspberry \\\\\n",
       "\\end{tabular}\n"
      ],
      "text/markdown": [
       "\n",
       "| apple      | orange     | pear       | strawberry |\n",
       "| banana     | grape      | melon      | blueberry  |\n",
       "| cherry     | pineapple  | fig        | raspberry  |\n",
       "\n"
      ],
      "text/plain": [
       "     [,1]   [,2]      [,3]  [,4]      \n",
       "[1,] apple  orange    pear  strawberry\n",
       "[2,] banana grape     melon blueberry \n",
       "[3,] cherry pineapple fig   raspberry "
      ]
     },
     "metadata": {},
     "output_type": "display_data"
    }
   ],
   "source": [
    "newmatrix <- cbind(thismatrix, c(\"strawberry\", \"blueberry\", \"raspberry\"))\n",
    "\n",
    "# Print the new matrix\n",
    "newmatrix"
   ]
  },
  {
   "cell_type": "code",
   "execution_count": 17,
   "metadata": {},
   "outputs": [
    {
     "data": {
      "text/html": [
       "<table>\n",
       "<tbody>\n",
       "\t<tr><td>apple     </td><td>orange    </td></tr>\n",
       "\t<tr><td>banana    </td><td>strawberry</td></tr>\n",
       "\t<tr><td>cherry    </td><td>blueberry </td></tr>\n",
       "</tbody>\n",
       "</table>\n"
      ],
      "text/latex": [
       "\\begin{tabular}{ll}\n",
       "\t apple      & orange    \\\\\n",
       "\t banana     & strawberry\\\\\n",
       "\t cherry     & blueberry \\\\\n",
       "\\end{tabular}\n"
      ],
      "text/markdown": [
       "\n",
       "| apple      | orange     |\n",
       "| banana     | strawberry |\n",
       "| cherry     | blueberry  |\n",
       "\n"
      ],
      "text/plain": [
       "     [,1]   [,2]      \n",
       "[1,] apple  orange    \n",
       "[2,] banana strawberry\n",
       "[3,] cherry blueberry "
      ]
     },
     "metadata": {},
     "output_type": "display_data"
    },
    {
     "name": "stdout",
     "output_type": "stream",
     "text": [
      "[1] \"apple\"\n",
      "[1] \"orange\"\n",
      "[1] \"banana\"\n",
      "[1] \"strawberry\"\n",
      "[1] \"cherry\"\n",
      "[1] \"blueberry\"\n",
      "[1] \"-----------------------\"\n",
      "[1] \"apple\"\n",
      "[1] \"banana\"\n",
      "[1] \"cherry\"\n",
      "[1] \"orange\"\n",
      "[1] \"strawberry\"\n",
      "[1] \"blueberry\"\n"
     ]
    }
   ],
   "source": [
    "thismatrix <- matrix(c(\"apple\", \"banana\", \"cherry\", \"orange\", \"strawberry\", \"blueberry\"), nrow = 3, ncol = 2)\n",
    "thismatrix\n",
    "\n",
    "for (rows in 1:nrow(thismatrix)) {\n",
    "  for (columns in 1:ncol(thismatrix)) {\n",
    "    print(thismatrix[rows, columns])\n",
    "  }\n",
    "}\n",
    "\n",
    "print(\"-----------------------\")\n",
    "\n",
    "for (columns in 1:ncol(thismatrix)) {\n",
    "    for (rows in 1:nrow(thismatrix)) {\n",
    "        print(thismatrix[rows, columns])\n",
    "    }\n",
    "}"
   ]
  },
  {
   "cell_type": "code",
   "execution_count": 18,
   "metadata": {},
   "outputs": [
    {
     "data": {
      "text/html": [
       "<table>\n",
       "<tbody>\n",
       "\t<tr><td>apple </td><td>cherry</td></tr>\n",
       "\t<tr><td>banana</td><td>grape </td></tr>\n",
       "</tbody>\n",
       "</table>\n"
      ],
      "text/latex": [
       "\\begin{tabular}{ll}\n",
       "\t apple  & cherry\\\\\n",
       "\t banana & grape \\\\\n",
       "\\end{tabular}\n"
      ],
      "text/markdown": [
       "\n",
       "| apple  | cherry |\n",
       "| banana | grape  |\n",
       "\n"
      ],
      "text/plain": [
       "     [,1]   [,2]  \n",
       "[1,] apple  cherry\n",
       "[2,] banana grape "
      ]
     },
     "metadata": {},
     "output_type": "display_data"
    }
   ],
   "source": [
    "Matrix1 <- matrix(c(\"apple\", \"banana\", \"cherry\", \"grape\"), nrow = 2, ncol = 2)\n",
    "Matrix1"
   ]
  },
  {
   "cell_type": "code",
   "execution_count": 20,
   "metadata": {},
   "outputs": [
    {
     "data": {
      "text/html": [
       "<table>\n",
       "<tbody>\n",
       "\t<tr><td>orange    </td><td>pineapple </td></tr>\n",
       "\t<tr><td>mango     </td><td>watermelon</td></tr>\n",
       "</tbody>\n",
       "</table>\n"
      ],
      "text/latex": [
       "\\begin{tabular}{ll}\n",
       "\t orange     & pineapple \\\\\n",
       "\t mango      & watermelon\\\\\n",
       "\\end{tabular}\n"
      ],
      "text/markdown": [
       "\n",
       "| orange     | pineapple  |\n",
       "| mango      | watermelon |\n",
       "\n"
      ],
      "text/plain": [
       "     [,1]   [,2]      \n",
       "[1,] orange pineapple \n",
       "[2,] mango  watermelon"
      ]
     },
     "metadata": {},
     "output_type": "display_data"
    }
   ],
   "source": [
    "Matrix2 <- matrix(c(\"orange\", \"mango\", \"pineapple\", \"watermelon\"), nrow = 2, ncol = 2)\n",
    "Matrix2"
   ]
  },
  {
   "cell_type": "code",
   "execution_count": 21,
   "metadata": {},
   "outputs": [
    {
     "data": {
      "text/html": [
       "<table>\n",
       "<tbody>\n",
       "\t<tr><td>apple     </td><td>cherry    </td></tr>\n",
       "\t<tr><td>banana    </td><td>grape     </td></tr>\n",
       "\t<tr><td>orange    </td><td>pineapple </td></tr>\n",
       "\t<tr><td>mango     </td><td>watermelon</td></tr>\n",
       "</tbody>\n",
       "</table>\n"
      ],
      "text/latex": [
       "\\begin{tabular}{ll}\n",
       "\t apple      & cherry    \\\\\n",
       "\t banana     & grape     \\\\\n",
       "\t orange     & pineapple \\\\\n",
       "\t mango      & watermelon\\\\\n",
       "\\end{tabular}\n"
      ],
      "text/markdown": [
       "\n",
       "| apple      | cherry     |\n",
       "| banana     | grape      |\n",
       "| orange     | pineapple  |\n",
       "| mango      | watermelon |\n",
       "\n"
      ],
      "text/plain": [
       "     [,1]   [,2]      \n",
       "[1,] apple  cherry    \n",
       "[2,] banana grape     \n",
       "[3,] orange pineapple \n",
       "[4,] mango  watermelon"
      ]
     },
     "metadata": {},
     "output_type": "display_data"
    }
   ],
   "source": [
    "# Combine matrices\n",
    "# Adding it as a rows\n",
    "Matrix_Combined <- rbind(Matrix1, Matrix2)\n",
    "Matrix_Combined"
   ]
  },
  {
   "cell_type": "code",
   "execution_count": 22,
   "metadata": {},
   "outputs": [
    {
     "data": {
      "text/html": [
       "<table>\n",
       "<tbody>\n",
       "\t<tr><td>apple     </td><td>cherry    </td><td>orange    </td><td>pineapple </td></tr>\n",
       "\t<tr><td>banana    </td><td>grape     </td><td>mango     </td><td>watermelon</td></tr>\n",
       "</tbody>\n",
       "</table>\n"
      ],
      "text/latex": [
       "\\begin{tabular}{llll}\n",
       "\t apple      & cherry     & orange     & pineapple \\\\\n",
       "\t banana     & grape      & mango      & watermelon\\\\\n",
       "\\end{tabular}\n"
      ],
      "text/markdown": [
       "\n",
       "| apple      | cherry     | orange     | pineapple  |\n",
       "| banana     | grape      | mango      | watermelon |\n",
       "\n"
      ],
      "text/plain": [
       "     [,1]   [,2]   [,3]   [,4]      \n",
       "[1,] apple  cherry orange pineapple \n",
       "[2,] banana grape  mango  watermelon"
      ]
     },
     "metadata": {},
     "output_type": "display_data"
    }
   ],
   "source": [
    "# Adding it as a columns\n",
    "Matrix_Combined <- cbind(Matrix1, Matrix2)\n",
    "Matrix_Combined"
   ]
  },
  {
   "cell_type": "code",
   "execution_count": 23,
   "metadata": {},
   "outputs": [
    {
     "data": {
      "text/html": [
       "<table>\n",
       "<thead><tr><th scope=col>Training</th><th scope=col>Pulse</th><th scope=col>Duration</th></tr></thead>\n",
       "<tbody>\n",
       "\t<tr><td>Strength</td><td>100     </td><td>60      </td></tr>\n",
       "\t<tr><td>Stamina </td><td>150     </td><td>30      </td></tr>\n",
       "\t<tr><td>Other   </td><td>120     </td><td>45      </td></tr>\n",
       "</tbody>\n",
       "</table>\n"
      ],
      "text/latex": [
       "\\begin{tabular}{r|lll}\n",
       " Training & Pulse & Duration\\\\\n",
       "\\hline\n",
       "\t Strength & 100      & 60      \\\\\n",
       "\t Stamina  & 150      & 30      \\\\\n",
       "\t Other    & 120      & 45      \\\\\n",
       "\\end{tabular}\n"
      ],
      "text/markdown": [
       "\n",
       "| Training | Pulse | Duration |\n",
       "|---|---|---|\n",
       "| Strength | 100      | 60       |\n",
       "| Stamina  | 150      | 30       |\n",
       "| Other    | 120      | 45       |\n",
       "\n"
      ],
      "text/plain": [
       "  Training Pulse Duration\n",
       "1 Strength 100   60      \n",
       "2 Stamina  150   30      \n",
       "3 Other    120   45      "
      ]
     },
     "metadata": {},
     "output_type": "display_data"
    }
   ],
   "source": [
    "# Create a data frame\n",
    "Data_Frame <- data.frame (\n",
    "  Training = c(\"Strength\", \"Stamina\", \"Other\"),\n",
    "  Pulse = c(100, 150, 120),\n",
    "  Duration = c(60, 30, 45)\n",
    ")\n",
    "\n",
    "# Print the data frame\n",
    "Data_Frame"
   ]
  },
  {
   "cell_type": "code",
   "execution_count": 2,
   "metadata": {},
   "outputs": [
    {
     "data": {
      "text/html": [
       "<table>\n",
       "<thead><tr><th scope=col>Training</th><th scope=col>Pulse</th><th scope=col>Duration</th></tr></thead>\n",
       "<tbody>\n",
       "\t<tr><td>Strength</td><td>100     </td><td>60      </td></tr>\n",
       "\t<tr><td>Stamina </td><td>150     </td><td>30      </td></tr>\n",
       "\t<tr><td>Other   </td><td>120     </td><td>45      </td></tr>\n",
       "</tbody>\n",
       "</table>\n"
      ],
      "text/latex": [
       "\\begin{tabular}{r|lll}\n",
       " Training & Pulse & Duration\\\\\n",
       "\\hline\n",
       "\t Strength & 100      & 60      \\\\\n",
       "\t Stamina  & 150      & 30      \\\\\n",
       "\t Other    & 120      & 45      \\\\\n",
       "\\end{tabular}\n"
      ],
      "text/markdown": [
       "\n",
       "| Training | Pulse | Duration |\n",
       "|---|---|---|\n",
       "| Strength | 100      | 60       |\n",
       "| Stamina  | 150      | 30       |\n",
       "| Other    | 120      | 45       |\n",
       "\n"
      ],
      "text/plain": [
       "  Training Pulse Duration\n",
       "1 Strength 100   60      \n",
       "2 Stamina  150   30      \n",
       "3 Other    120   45      "
      ]
     },
     "metadata": {},
     "output_type": "display_data"
    },
    {
     "data": {
      "text/plain": [
       "     Training     Pulse          Duration   \n",
       " Other   :1   Min.   :100.0   Min.   :30.0  \n",
       " Stamina :1   1st Qu.:110.0   1st Qu.:37.5  \n",
       " Strength:1   Median :120.0   Median :45.0  \n",
       "              Mean   :123.3   Mean   :45.0  \n",
       "              3rd Qu.:135.0   3rd Qu.:52.5  \n",
       "              Max.   :150.0   Max.   :60.0  "
      ]
     },
     "metadata": {},
     "output_type": "display_data"
    }
   ],
   "source": [
    "Data_Frame <- data.frame (\n",
    "  Training = c(\"Strength\", \"Stamina\", \"Other\"),\n",
    "  Pulse = c(100, 150, 120),\n",
    "  Duration = c(60, 30, 45)\n",
    ")\n",
    "\n",
    "Data_Frame\n",
    "\n",
    "summary(Data_Frame)"
   ]
  },
  {
   "cell_type": "code",
   "execution_count": 24,
   "metadata": {},
   "outputs": [
    {
     "data": {
      "text/html": [
       "<table>\n",
       "<thead><tr><th scope=col>Pulse</th></tr></thead>\n",
       "<tbody>\n",
       "\t<tr><td>100</td></tr>\n",
       "\t<tr><td>150</td></tr>\n",
       "\t<tr><td>120</td></tr>\n",
       "</tbody>\n",
       "</table>\n"
      ],
      "text/latex": [
       "\\begin{tabular}{r|l}\n",
       " Pulse\\\\\n",
       "\\hline\n",
       "\t 100\\\\\n",
       "\t 150\\\\\n",
       "\t 120\\\\\n",
       "\\end{tabular}\n"
      ],
      "text/markdown": [
       "\n",
       "| Pulse |\n",
       "|---|\n",
       "| 100 |\n",
       "| 150 |\n",
       "| 120 |\n",
       "\n"
      ],
      "text/plain": [
       "  Pulse\n",
       "1 100  \n",
       "2 150  \n",
       "3 120  "
      ]
     },
     "metadata": {},
     "output_type": "display_data"
    },
    {
     "data": {
      "text/html": [
       "<ol class=list-inline>\n",
       "\t<li>Strength</li>\n",
       "\t<li>Stamina</li>\n",
       "\t<li>Other</li>\n",
       "</ol>\n",
       "\n",
       "<details>\n",
       "\t<summary style=display:list-item;cursor:pointer>\n",
       "\t\t<strong>Levels</strong>:\n",
       "\t</summary>\n",
       "\t<ol class=list-inline>\n",
       "\t\t<li>'Other'</li>\n",
       "\t\t<li>'Stamina'</li>\n",
       "\t\t<li>'Strength'</li>\n",
       "\t</ol>\n",
       "</details>"
      ],
      "text/latex": [
       "\\begin{enumerate*}\n",
       "\\item Strength\n",
       "\\item Stamina\n",
       "\\item Other\n",
       "\\end{enumerate*}\n",
       "\n",
       "\\emph{Levels}: \\begin{enumerate*}\n",
       "\\item 'Other'\n",
       "\\item 'Stamina'\n",
       "\\item 'Strength'\n",
       "\\end{enumerate*}\n"
      ],
      "text/markdown": [
       "1. Strength\n",
       "2. Stamina\n",
       "3. Other\n",
       "\n",
       "\n",
       "\n",
       "**Levels**: 1. 'Other'\n",
       "2. 'Stamina'\n",
       "3. 'Strength'\n",
       "\n",
       "\n"
      ],
      "text/plain": [
       "[1] Strength Stamina  Other   \n",
       "Levels: Other Stamina Strength"
      ]
     },
     "metadata": {},
     "output_type": "display_data"
    },
    {
     "data": {
      "text/html": [
       "<ol class=list-inline>\n",
       "\t<li>60</li>\n",
       "\t<li>30</li>\n",
       "\t<li>45</li>\n",
       "</ol>\n"
      ],
      "text/latex": [
       "\\begin{enumerate*}\n",
       "\\item 60\n",
       "\\item 30\n",
       "\\item 45\n",
       "\\end{enumerate*}\n"
      ],
      "text/markdown": [
       "1. 60\n",
       "2. 30\n",
       "3. 45\n",
       "\n",
       "\n"
      ],
      "text/plain": [
       "[1] 60 30 45"
      ]
     },
     "metadata": {},
     "output_type": "display_data"
    }
   ],
   "source": [
    "Data_Frame <- data.frame (\n",
    "  Training = c(\"Strength\", \"Stamina\", \"Other\"),\n",
    "  Pulse = c(100, 150, 120),\n",
    "  Duration = c(60, 30, 45)\n",
    ")\n",
    "\n",
    "Data_Frame[2]\n",
    "\n",
    "Data_Frame[[\"Training\"]]\n",
    "\n",
    "Data_Frame$Duration"
   ]
  },
  {
   "cell_type": "markdown",
   "metadata": {},
   "source": [
    "Add Rows\n",
    "\n",
    "Use the rbind() function to add new rows in a Data Frame:"
   ]
  },
  {
   "cell_type": "code",
   "execution_count": 37,
   "metadata": {},
   "outputs": [
    {
     "data": {
      "text/html": [
       "<table>\n",
       "<thead><tr><th scope=col>Training</th><th scope=col>Pulse</th><th scope=col>Duration</th></tr></thead>\n",
       "<tbody>\n",
       "\t<tr><td>Strength</td><td>100     </td><td>60      </td></tr>\n",
       "\t<tr><td>Stamina </td><td>150     </td><td>30      </td></tr>\n",
       "\t<tr><td>Other   </td><td>120     </td><td>40      </td></tr>\n",
       "</tbody>\n",
       "</table>\n"
      ],
      "text/latex": [
       "\\begin{tabular}{r|lll}\n",
       " Training & Pulse & Duration\\\\\n",
       "\\hline\n",
       "\t Strength & 100      & 60      \\\\\n",
       "\t Stamina  & 150      & 30      \\\\\n",
       "\t Other    & 120      & 40      \\\\\n",
       "\\end{tabular}\n"
      ],
      "text/markdown": [
       "\n",
       "| Training | Pulse | Duration |\n",
       "|---|---|---|\n",
       "| Strength | 100      | 60       |\n",
       "| Stamina  | 150      | 30       |\n",
       "| Other    | 120      | 40       |\n",
       "\n"
      ],
      "text/plain": [
       "  Training Pulse Duration\n",
       "1 Strength 100   60      \n",
       "2 Stamina  150   30      \n",
       "3 Other    120   40      "
      ]
     },
     "metadata": {},
     "output_type": "display_data"
    },
    {
     "data": {
      "text/html": [
       "<table>\n",
       "<thead><tr><th scope=col>Training</th><th scope=col>Pulse</th><th scope=col>Duration</th></tr></thead>\n",
       "<tbody>\n",
       "\t<tr><td>Strength</td><td>100     </td><td>60      </td></tr>\n",
       "\t<tr><td>Stamina </td><td>150     </td><td>30      </td></tr>\n",
       "\t<tr><td>Other   </td><td>120     </td><td>40      </td></tr>\n",
       "\t<tr><td>Strength</td><td>110     </td><td>110     </td></tr>\n",
       "</tbody>\n",
       "</table>\n"
      ],
      "text/latex": [
       "\\begin{tabular}{r|lll}\n",
       " Training & Pulse & Duration\\\\\n",
       "\\hline\n",
       "\t Strength & 100      & 60      \\\\\n",
       "\t Stamina  & 150      & 30      \\\\\n",
       "\t Other    & 120      & 40      \\\\\n",
       "\t Strength & 110      & 110     \\\\\n",
       "\\end{tabular}\n"
      ],
      "text/markdown": [
       "\n",
       "| Training | Pulse | Duration |\n",
       "|---|---|---|\n",
       "| Strength | 100      | 60       |\n",
       "| Stamina  | 150      | 30       |\n",
       "| Other    | 120      | 40       |\n",
       "| Strength | 110      | 110      |\n",
       "\n"
      ],
      "text/plain": [
       "  Training Pulse Duration\n",
       "1 Strength 100   60      \n",
       "2 Stamina  150   30      \n",
       "3 Other    120   40      \n",
       "4 Strength 110   110     "
      ]
     },
     "metadata": {},
     "output_type": "display_data"
    }
   ],
   "source": [
    "Data_Frame <- data.frame (\n",
    "  Training = c(\"Strength\", \"Stamina\", \"Other\"),\n",
    "  Pulse = c(100, 150, 120),\n",
    "  Duration = c(60, 30, 40)\n",
    ")\n",
    "Data_Frame  \n",
    "# Add a new row\n",
    "New_row_DF <- rbind(Data_Frame, c(\"Strength\", 110, 110))\n",
    "\n",
    "# Print the new row\n",
    "New_row_DF"
   ]
  },
  {
   "cell_type": "code",
   "execution_count": 25,
   "metadata": {},
   "outputs": [
    {
     "data": {
      "text/html": [
       "<table>\n",
       "<thead><tr><th scope=col>Training</th><th scope=col>Pulse</th><th scope=col>Duration</th></tr></thead>\n",
       "<tbody>\n",
       "\t<tr><td>Strength</td><td>100     </td><td>60      </td></tr>\n",
       "\t<tr><td>Stamina </td><td>150     </td><td>30      </td></tr>\n",
       "\t<tr><td>Other   </td><td>120     </td><td>40      </td></tr>\n",
       "</tbody>\n",
       "</table>\n"
      ],
      "text/latex": [
       "\\begin{tabular}{r|lll}\n",
       " Training & Pulse & Duration\\\\\n",
       "\\hline\n",
       "\t Strength & 100      & 60      \\\\\n",
       "\t Stamina  & 150      & 30      \\\\\n",
       "\t Other    & 120      & 40      \\\\\n",
       "\\end{tabular}\n"
      ],
      "text/markdown": [
       "\n",
       "| Training | Pulse | Duration |\n",
       "|---|---|---|\n",
       "| Strength | 100      | 60       |\n",
       "| Stamina  | 150      | 30       |\n",
       "| Other    | 120      | 40       |\n",
       "\n"
      ],
      "text/plain": [
       "  Training Pulse Duration\n",
       "1 Strength 100   60      \n",
       "2 Stamina  150   30      \n",
       "3 Other    120   40      "
      ]
     },
     "metadata": {},
     "output_type": "display_data"
    },
    {
     "data": {
      "text/html": [
       "<table>\n",
       "<thead><tr><th scope=col>Training</th><th scope=col>Pulse</th><th scope=col>Duration</th><th scope=col>Steps</th></tr></thead>\n",
       "<tbody>\n",
       "\t<tr><td>Strength</td><td>100     </td><td>60      </td><td>1000    </td></tr>\n",
       "\t<tr><td>Stamina </td><td>150     </td><td>30      </td><td>6000    </td></tr>\n",
       "\t<tr><td>Other   </td><td>120     </td><td>40      </td><td>2000    </td></tr>\n",
       "</tbody>\n",
       "</table>\n"
      ],
      "text/latex": [
       "\\begin{tabular}{r|llll}\n",
       " Training & Pulse & Duration & Steps\\\\\n",
       "\\hline\n",
       "\t Strength & 100      & 60       & 1000    \\\\\n",
       "\t Stamina  & 150      & 30       & 6000    \\\\\n",
       "\t Other    & 120      & 40       & 2000    \\\\\n",
       "\\end{tabular}\n"
      ],
      "text/markdown": [
       "\n",
       "| Training | Pulse | Duration | Steps |\n",
       "|---|---|---|---|\n",
       "| Strength | 100      | 60       | 1000     |\n",
       "| Stamina  | 150      | 30       | 6000     |\n",
       "| Other    | 120      | 40       | 2000     |\n",
       "\n"
      ],
      "text/plain": [
       "  Training Pulse Duration Steps\n",
       "1 Strength 100   60       1000 \n",
       "2 Stamina  150   30       6000 \n",
       "3 Other    120   40       2000 "
      ]
     },
     "metadata": {},
     "output_type": "display_data"
    }
   ],
   "source": [
    "Data_Frame <- data.frame (\n",
    "  Training = c(\"Strength\", \"Stamina\", \"Other\"),\n",
    "  Pulse = c(100, 150, 120),\n",
    "  Duration = c(60, 30, 40)\n",
    ")\n",
    "Data_Frame  \n",
    "# Add a new row\n",
    "New_row_DF <- cbind(Data_Frame, Steps = c(1000, 6000, 2000))\n",
    "\n",
    "# Print the new row\n",
    "New_row_DF"
   ]
  },
  {
   "cell_type": "code",
   "execution_count": 40,
   "metadata": {},
   "outputs": [
    {
     "data": {
      "text/html": [
       "<table>\n",
       "<thead><tr><th scope=col>Training</th><th scope=col>Pulse</th><th scope=col>Duration</th></tr></thead>\n",
       "<tbody>\n",
       "\t<tr><td>Strength</td><td>100     </td><td>60      </td></tr>\n",
       "\t<tr><td>Stamina </td><td>150     </td><td>30      </td></tr>\n",
       "\t<tr><td>Other   </td><td>120     </td><td>45      </td></tr>\n",
       "</tbody>\n",
       "</table>\n"
      ],
      "text/latex": [
       "\\begin{tabular}{r|lll}\n",
       " Training & Pulse & Duration\\\\\n",
       "\\hline\n",
       "\t Strength & 100      & 60      \\\\\n",
       "\t Stamina  & 150      & 30      \\\\\n",
       "\t Other    & 120      & 45      \\\\\n",
       "\\end{tabular}\n"
      ],
      "text/markdown": [
       "\n",
       "| Training | Pulse | Duration |\n",
       "|---|---|---|\n",
       "| Strength | 100      | 60       |\n",
       "| Stamina  | 150      | 30       |\n",
       "| Other    | 120      | 45       |\n",
       "\n"
      ],
      "text/plain": [
       "  Training Pulse Duration\n",
       "1 Strength 100   60      \n",
       "2 Stamina  150   30      \n",
       "3 Other    120   45      "
      ]
     },
     "metadata": {},
     "output_type": "display_data"
    },
    {
     "data": {
      "text/html": [
       "<table>\n",
       "<thead><tr><th></th><th scope=col>Pulse</th><th scope=col>Duration</th></tr></thead>\n",
       "<tbody>\n",
       "\t<tr><th scope=row>2</th><td>150</td><td>30 </td></tr>\n",
       "\t<tr><th scope=row>3</th><td>120</td><td>45 </td></tr>\n",
       "</tbody>\n",
       "</table>\n"
      ],
      "text/latex": [
       "\\begin{tabular}{r|ll}\n",
       "  & Pulse & Duration\\\\\n",
       "\\hline\n",
       "\t2 & 150 & 30 \\\\\n",
       "\t3 & 120 & 45 \\\\\n",
       "\\end{tabular}\n"
      ],
      "text/markdown": [
       "\n",
       "| <!--/--> | Pulse | Duration |\n",
       "|---|---|---|\n",
       "| 2 | 150 | 30  |\n",
       "| 3 | 120 | 45  |\n",
       "\n"
      ],
      "text/plain": [
       "  Pulse Duration\n",
       "2 150   30      \n",
       "3 120   45      "
      ]
     },
     "metadata": {},
     "output_type": "display_data"
    }
   ],
   "source": [
    "Data_Frame <- data.frame (\n",
    "  Training = c(\"Strength\", \"Stamina\", \"Other\"),\n",
    "  Pulse = c(100, 150, 120),\n",
    "  Duration = c(60, 30, 45)\n",
    ")\n",
    "Data_Frame\n",
    "# Remove the first row and column\n",
    "#Data_Frame_New <- Data_Frame[-c(1), ]\n",
    "Data_Frame_New <- Data_Frame[-c(1), -c(1)]\n",
    "\n",
    "# Print the new data frame\n",
    "Data_Frame_New"
   ]
  },
  {
   "cell_type": "code",
   "execution_count": 41,
   "metadata": {},
   "outputs": [
    {
     "data": {
      "text/html": [
       "<ol class=list-inline>\n",
       "\t<li>3</li>\n",
       "\t<li>3</li>\n",
       "</ol>\n"
      ],
      "text/latex": [
       "\\begin{enumerate*}\n",
       "\\item 3\n",
       "\\item 3\n",
       "\\end{enumerate*}\n"
      ],
      "text/markdown": [
       "1. 3\n",
       "2. 3\n",
       "\n",
       "\n"
      ],
      "text/plain": [
       "[1] 3 3"
      ]
     },
     "metadata": {},
     "output_type": "display_data"
    }
   ],
   "source": [
    "Data_Frame <- data.frame (\n",
    "  Training = c(\"Strength\", \"Stamina\", \"Other\"),\n",
    "  Pulse = c(100, 150, 120),\n",
    "  Duration = c(60, 30, 45)\n",
    ")\n",
    "\n",
    "dim(Data_Frame)"
   ]
  },
  {
   "cell_type": "code",
   "execution_count": 42,
   "metadata": {},
   "outputs": [
    {
     "data": {
      "text/html": [
       "3"
      ],
      "text/latex": [
       "3"
      ],
      "text/markdown": [
       "3"
      ],
      "text/plain": [
       "[1] 3"
      ]
     },
     "metadata": {},
     "output_type": "display_data"
    }
   ],
   "source": [
    "Data_Frame <- data.frame (\n",
    "  Training = c(\"Strength\", \"Stamina\", \"Other\"),\n",
    "  Pulse = c(100, 150, 120),\n",
    "  Duration = c(60, 30, 45)\n",
    ")\n",
    "\n",
    "length(Data_Frame)"
   ]
  },
  {
   "cell_type": "code",
   "execution_count": 43,
   "metadata": {},
   "outputs": [
    {
     "data": {
      "text/html": [
       "<table>\n",
       "<thead><tr><th scope=col>Training</th><th scope=col>Pulse</th><th scope=col>Duration</th></tr></thead>\n",
       "<tbody>\n",
       "\t<tr><td>Strength</td><td>100     </td><td>60      </td></tr>\n",
       "\t<tr><td>Stamina </td><td>150     </td><td>30      </td></tr>\n",
       "\t<tr><td>Other   </td><td>120     </td><td>45      </td></tr>\n",
       "</tbody>\n",
       "</table>\n"
      ],
      "text/latex": [
       "\\begin{tabular}{r|lll}\n",
       " Training & Pulse & Duration\\\\\n",
       "\\hline\n",
       "\t Strength & 100      & 60      \\\\\n",
       "\t Stamina  & 150      & 30      \\\\\n",
       "\t Other    & 120      & 45      \\\\\n",
       "\\end{tabular}\n"
      ],
      "text/markdown": [
       "\n",
       "| Training | Pulse | Duration |\n",
       "|---|---|---|\n",
       "| Strength | 100      | 60       |\n",
       "| Stamina  | 150      | 30       |\n",
       "| Other    | 120      | 45       |\n",
       "\n"
      ],
      "text/plain": [
       "  Training Pulse Duration\n",
       "1 Strength 100   60      \n",
       "2 Stamina  150   30      \n",
       "3 Other    120   45      "
      ]
     },
     "metadata": {},
     "output_type": "display_data"
    },
    {
     "data": {
      "text/html": [
       "<table>\n",
       "<thead><tr><th scope=col>Steps</th><th scope=col>Calories</th></tr></thead>\n",
       "<tbody>\n",
       "\t<tr><td>3000</td><td>300 </td></tr>\n",
       "\t<tr><td>6000</td><td>400 </td></tr>\n",
       "\t<tr><td>2000</td><td>300 </td></tr>\n",
       "</tbody>\n",
       "</table>\n"
      ],
      "text/latex": [
       "\\begin{tabular}{r|ll}\n",
       " Steps & Calories\\\\\n",
       "\\hline\n",
       "\t 3000 & 300 \\\\\n",
       "\t 6000 & 400 \\\\\n",
       "\t 2000 & 300 \\\\\n",
       "\\end{tabular}\n"
      ],
      "text/markdown": [
       "\n",
       "| Steps | Calories |\n",
       "|---|---|\n",
       "| 3000 | 300  |\n",
       "| 6000 | 400  |\n",
       "| 2000 | 300  |\n",
       "\n"
      ],
      "text/plain": [
       "  Steps Calories\n",
       "1 3000  300     \n",
       "2 6000  400     \n",
       "3 2000  300     "
      ]
     },
     "metadata": {},
     "output_type": "display_data"
    },
    {
     "data": {
      "text/html": [
       "<table>\n",
       "<thead><tr><th scope=col>Training</th><th scope=col>Pulse</th><th scope=col>Duration</th><th scope=col>Steps</th><th scope=col>Calories</th></tr></thead>\n",
       "<tbody>\n",
       "\t<tr><td>Strength</td><td>100     </td><td>60      </td><td>3000    </td><td>300     </td></tr>\n",
       "\t<tr><td>Stamina </td><td>150     </td><td>30      </td><td>6000    </td><td>400     </td></tr>\n",
       "\t<tr><td>Other   </td><td>120     </td><td>45      </td><td>2000    </td><td>300     </td></tr>\n",
       "</tbody>\n",
       "</table>\n"
      ],
      "text/latex": [
       "\\begin{tabular}{r|lllll}\n",
       " Training & Pulse & Duration & Steps & Calories\\\\\n",
       "\\hline\n",
       "\t Strength & 100      & 60       & 3000     & 300     \\\\\n",
       "\t Stamina  & 150      & 30       & 6000     & 400     \\\\\n",
       "\t Other    & 120      & 45       & 2000     & 300     \\\\\n",
       "\\end{tabular}\n"
      ],
      "text/markdown": [
       "\n",
       "| Training | Pulse | Duration | Steps | Calories |\n",
       "|---|---|---|---|---|\n",
       "| Strength | 100      | 60       | 3000     | 300      |\n",
       "| Stamina  | 150      | 30       | 6000     | 400      |\n",
       "| Other    | 120      | 45       | 2000     | 300      |\n",
       "\n"
      ],
      "text/plain": [
       "  Training Pulse Duration Steps Calories\n",
       "1 Strength 100   60       3000  300     \n",
       "2 Stamina  150   30       6000  400     \n",
       "3 Other    120   45       2000  300     "
      ]
     },
     "metadata": {},
     "output_type": "display_data"
    }
   ],
   "source": [
    "Data_Frame3 <- data.frame (\n",
    "  Training = c(\"Strength\", \"Stamina\", \"Other\"),\n",
    "  Pulse = c(100, 150, 120),\n",
    "  Duration = c(60, 30, 45)\n",
    ")\n",
    "Data_Frame3\n",
    "Data_Frame4 <- data.frame (\n",
    "  Steps = c(3000, 6000, 2000),\n",
    "  Calories = c(300, 400, 300)\n",
    ")\n",
    "Data_Frame4\n",
    "\n",
    "New_Data_Frame1 <- cbind(Data_Frame3, Data_Frame4)\n",
    "New_Data_Frame1"
   ]
  },
  {
   "cell_type": "code",
   "execution_count": 26,
   "metadata": {},
   "outputs": [
    {
     "data": {
      "text/html": [
       "<table>\n",
       "<thead><tr><th scope=col>Training</th><th scope=col>Pulse</th><th scope=col>Duration</th></tr></thead>\n",
       "<tbody>\n",
       "\t<tr><td>Strength</td><td>100     </td><td>60      </td></tr>\n",
       "\t<tr><td>Stamina </td><td>150     </td><td>30      </td></tr>\n",
       "\t<tr><td>Other   </td><td>120     </td><td>45      </td></tr>\n",
       "</tbody>\n",
       "</table>\n"
      ],
      "text/latex": [
       "\\begin{tabular}{r|lll}\n",
       " Training & Pulse & Duration\\\\\n",
       "\\hline\n",
       "\t Strength & 100      & 60      \\\\\n",
       "\t Stamina  & 150      & 30      \\\\\n",
       "\t Other    & 120      & 45      \\\\\n",
       "\\end{tabular}\n"
      ],
      "text/markdown": [
       "\n",
       "| Training | Pulse | Duration |\n",
       "|---|---|---|\n",
       "| Strength | 100      | 60       |\n",
       "| Stamina  | 150      | 30       |\n",
       "| Other    | 120      | 45       |\n",
       "\n"
      ],
      "text/plain": [
       "  Training Pulse Duration\n",
       "1 Strength 100   60      \n",
       "2 Stamina  150   30      \n",
       "3 Other    120   45      "
      ]
     },
     "metadata": {},
     "output_type": "display_data"
    },
    {
     "data": {
      "text/html": [
       "<table>\n",
       "<thead><tr><th scope=col>Steps</th><th scope=col>Calories</th></tr></thead>\n",
       "<tbody>\n",
       "\t<tr><td>3000</td><td>300 </td></tr>\n",
       "\t<tr><td>6000</td><td>400 </td></tr>\n",
       "\t<tr><td>2000</td><td>300 </td></tr>\n",
       "</tbody>\n",
       "</table>\n"
      ],
      "text/latex": [
       "\\begin{tabular}{r|ll}\n",
       " Steps & Calories\\\\\n",
       "\\hline\n",
       "\t 3000 & 300 \\\\\n",
       "\t 6000 & 400 \\\\\n",
       "\t 2000 & 300 \\\\\n",
       "\\end{tabular}\n"
      ],
      "text/markdown": [
       "\n",
       "| Steps | Calories |\n",
       "|---|---|\n",
       "| 3000 | 300  |\n",
       "| 6000 | 400  |\n",
       "| 2000 | 300  |\n",
       "\n"
      ],
      "text/plain": [
       "  Steps Calories\n",
       "1 3000  300     \n",
       "2 6000  400     \n",
       "3 2000  300     "
      ]
     },
     "metadata": {},
     "output_type": "display_data"
    },
    {
     "ename": "ERROR",
     "evalue": "Error in rbind(deparse.level, ...): numbers of columns of arguments do not match\n",
     "output_type": "error",
     "traceback": [
      "Error in rbind(deparse.level, ...): numbers of columns of arguments do not match\nTraceback:\n",
      "1. rbind(Data_Frame3, Data_Frame4)",
      "2. rbind(deparse.level, ...)",
      "3. stop(\"numbers of columns of arguments do not match\")"
     ]
    }
   ],
   "source": []
  },
  {
   "cell_type": "code",
   "execution_count": null,
   "metadata": {},
   "outputs": [],
   "source": []
  }
 ],
 "metadata": {
  "kernelspec": {
   "display_name": "R",
   "language": "R",
   "name": "ir"
  },
  "language_info": {
   "codemirror_mode": "r",
   "file_extension": ".r",
   "mimetype": "text/x-r-source",
   "name": "R",
   "pygments_lexer": "r",
   "version": "3.6.1"
  }
 },
 "nbformat": 4,
 "nbformat_minor": 4
}
