{
 "cells": [
  {
   "cell_type": "code",
   "execution_count": null,
   "metadata": {},
   "outputs": [],
   "source": []
  },
  {
   "cell_type": "markdown",
   "metadata": {},
   "source": [
    "R-Matrices"
   ]
  },
  {
   "cell_type": "code",
   "execution_count": 1,
   "metadata": {},
   "outputs": [
    {
     "data": {
      "text/html": [
       "<table>\n",
       "<tbody>\n",
       "\t<tr><td>apple </td><td>cherry</td></tr>\n",
       "\t<tr><td>banana</td><td>orange</td></tr>\n",
       "</tbody>\n",
       "</table>\n"
      ],
      "text/latex": [
       "\\begin{tabular}{ll}\n",
       "\t apple  & cherry\\\\\n",
       "\t banana & orange\\\\\n",
       "\\end{tabular}\n"
      ],
      "text/markdown": [
       "\n",
       "| apple  | cherry |\n",
       "| banana | orange |\n",
       "\n"
      ],
      "text/plain": [
       "     [,1]   [,2]  \n",
       "[1,] apple  cherry\n",
       "[2,] banana orange"
      ]
     },
     "metadata": {},
     "output_type": "display_data"
    },
    {
     "data": {
      "text/html": [
       "'cherry'"
      ],
      "text/latex": [
       "'cherry'"
      ],
      "text/markdown": [
       "'cherry'"
      ],
      "text/plain": [
       "[1] \"cherry\""
      ]
     },
     "metadata": {},
     "output_type": "display_data"
    }
   ],
   "source": [
    "thismatrix <- matrix(c(\"apple\", \"banana\", \"cherry\", \"orange\"), nrow = 2, ncol = 2)\n",
    "\n",
    "thismatrix\n",
    "thismatrix[1, 2]"
   ]
  },
  {
   "cell_type": "code",
   "execution_count": 2,
   "metadata": {},
   "outputs": [
    {
     "data": {
      "text/html": [
       "<table>\n",
       "<tbody>\n",
       "\t<tr><td>apple    </td><td>pineapple</td></tr>\n",
       "\t<tr><td>banana   </td><td>pear     </td></tr>\n",
       "\t<tr><td>cherry   </td><td>melon    </td></tr>\n",
       "\t<tr><td>orange   </td><td>fig      </td></tr>\n",
       "\t<tr><td>grape    </td><td>water    </td></tr>\n",
       "</tbody>\n",
       "</table>\n"
      ],
      "text/latex": [
       "\\begin{tabular}{ll}\n",
       "\t apple     & pineapple\\\\\n",
       "\t banana    & pear     \\\\\n",
       "\t cherry    & melon    \\\\\n",
       "\t orange    & fig      \\\\\n",
       "\t grape     & water    \\\\\n",
       "\\end{tabular}\n"
      ],
      "text/markdown": [
       "\n",
       "| apple     | pineapple |\n",
       "| banana    | pear      |\n",
       "| cherry    | melon     |\n",
       "| orange    | fig       |\n",
       "| grape     | water     |\n",
       "\n"
      ],
      "text/plain": [
       "     [,1]   [,2]     \n",
       "[1,] apple  pineapple\n",
       "[2,] banana pear     \n",
       "[3,] cherry melon    \n",
       "[4,] orange fig      \n",
       "[5,] grape  water    "
      ]
     },
     "metadata": {},
     "output_type": "display_data"
    }
   ],
   "source": [
    "thismatrix <- matrix(c(\"apple\", \"banana\", \"cherry\", \"orange\",\"grape\", \"pineapple\", \"pear\", \"melon\", \"fig\", \"water\"), nrow = 5, ncol = 2)\n",
    "thismatrix\n"
   ]
  },
  {
   "cell_type": "code",
   "execution_count": 3,
   "metadata": {},
   "outputs": [
    {
     "data": {
      "text/html": [
       "<table>\n",
       "<tbody>\n",
       "\t<tr><td>apple    </td><td>pineapple</td></tr>\n",
       "\t<tr><td>banana   </td><td>pear     </td></tr>\n",
       "\t<tr><td>grape    </td><td>water    </td></tr>\n",
       "</tbody>\n",
       "</table>\n"
      ],
      "text/latex": [
       "\\begin{tabular}{ll}\n",
       "\t apple     & pineapple\\\\\n",
       "\t banana    & pear     \\\\\n",
       "\t grape     & water    \\\\\n",
       "\\end{tabular}\n"
      ],
      "text/markdown": [
       "\n",
       "| apple     | pineapple |\n",
       "| banana    | pear      |\n",
       "| grape     | water     |\n",
       "\n"
      ],
      "text/plain": [
       "     [,1]   [,2]     \n",
       "[1,] apple  pineapple\n",
       "[2,] banana pear     \n",
       "[3,] grape  water    "
      ]
     },
     "metadata": {},
     "output_type": "display_data"
    }
   ],
   "source": [
    "thismatrix[c(1,2,5),]"
   ]
  },
  {
   "cell_type": "code",
   "execution_count": 4,
   "metadata": {},
   "outputs": [
    {
     "data": {
      "text/html": [
       "TRUE"
      ],
      "text/latex": [
       "TRUE"
      ],
      "text/markdown": [
       "TRUE"
      ],
      "text/plain": [
       "[1] TRUE"
      ]
     },
     "metadata": {},
     "output_type": "display_data"
    }
   ],
   "source": [
    "thismatrix <- matrix(c(\"apple\", \"banana\", \"cherry\", \"orange\"), nrow = 2, ncol = 2)\n",
    "\n",
    "\"apple\" %in% thismatrix"
   ]
  },
  {
   "cell_type": "code",
   "execution_count": 5,
   "metadata": {},
   "outputs": [
    {
     "data": {
      "text/html": [
       "<table>\n",
       "<tbody>\n",
       "\t<tr><td>apple     </td><td>orange    </td><td>pear      </td></tr>\n",
       "\t<tr><td>banana    </td><td>grape     </td><td>melon     </td></tr>\n",
       "\t<tr><td>cherry    </td><td>pineapple </td><td>fig       </td></tr>\n",
       "\t<tr><td>strawberry</td><td>blueberry </td><td>raspberry </td></tr>\n",
       "</tbody>\n",
       "</table>\n"
      ],
      "text/latex": [
       "\\begin{tabular}{lll}\n",
       "\t apple      & orange     & pear      \\\\\n",
       "\t banana     & grape      & melon     \\\\\n",
       "\t cherry     & pineapple  & fig       \\\\\n",
       "\t strawberry & blueberry  & raspberry \\\\\n",
       "\\end{tabular}\n"
      ],
      "text/markdown": [
       "\n",
       "| apple      | orange     | pear       |\n",
       "| banana     | grape      | melon      |\n",
       "| cherry     | pineapple  | fig        |\n",
       "| strawberry | blueberry  | raspberry  |\n",
       "\n"
      ],
      "text/plain": [
       "     [,1]       [,2]      [,3]     \n",
       "[1,] apple      orange    pear     \n",
       "[2,] banana     grape     melon    \n",
       "[3,] cherry     pineapple fig      \n",
       "[4,] strawberry blueberry raspberry"
      ]
     },
     "metadata": {},
     "output_type": "display_data"
    }
   ],
   "source": [
    "thismatrix <- matrix(c(\"apple\", \"banana\", \"cherry\", \"orange\",\"grape\", \"pineapple\", \"pear\", \"melon\", \"fig\"), nrow = 3, ncol = 3)\n",
    "\n",
    "newmatrix <- rbind(thismatrix, c(\"strawberry\", \"blueberry\", \"raspberry\"))\n",
    "\n",
    "# Print the new matrix\n",
    "newmatrix"
   ]
  },
  {
   "cell_type": "code",
   "execution_count": 6,
   "metadata": {},
   "outputs": [
    {
     "name": "stdout",
     "output_type": "stream",
     "text": [
      "[1] \"apple\"\n",
      "[1] \"cherry\"\n",
      "[1] \"banana\"\n",
      "[1] \"orange\"\n"
     ]
    }
   ],
   "source": [
    "thismatrix <- matrix(c(\"apple\", \"banana\", \"cherry\", \"orange\"), nrow = 2, ncol = 2)\n",
    "\n",
    "for (rows in 1:nrow(thismatrix)) {\n",
    "  for (columns in 1:ncol(thismatrix)) {\n",
    "    print(thismatrix[rows, columns])\n",
    "  }\n",
    "}"
   ]
  },
  {
   "cell_type": "code",
   "execution_count": 7,
   "metadata": {},
   "outputs": [
    {
     "data": {
      "text/html": [
       "<table>\n",
       "<tbody>\n",
       "\t<tr><td>apple     </td><td>cherry    </td></tr>\n",
       "\t<tr><td>banana    </td><td>grape     </td></tr>\n",
       "\t<tr><td>orange    </td><td>pineapple </td></tr>\n",
       "\t<tr><td>mango     </td><td>watermelon</td></tr>\n",
       "</tbody>\n",
       "</table>\n"
      ],
      "text/latex": [
       "\\begin{tabular}{ll}\n",
       "\t apple      & cherry    \\\\\n",
       "\t banana     & grape     \\\\\n",
       "\t orange     & pineapple \\\\\n",
       "\t mango      & watermelon\\\\\n",
       "\\end{tabular}\n"
      ],
      "text/markdown": [
       "\n",
       "| apple      | cherry     |\n",
       "| banana     | grape      |\n",
       "| orange     | pineapple  |\n",
       "| mango      | watermelon |\n",
       "\n"
      ],
      "text/plain": [
       "     [,1]   [,2]      \n",
       "[1,] apple  cherry    \n",
       "[2,] banana grape     \n",
       "[3,] orange pineapple \n",
       "[4,] mango  watermelon"
      ]
     },
     "metadata": {},
     "output_type": "display_data"
    },
    {
     "data": {
      "text/html": [
       "<table>\n",
       "<tbody>\n",
       "\t<tr><td>apple     </td><td>cherry    </td><td>orange    </td><td>pineapple </td></tr>\n",
       "\t<tr><td>banana    </td><td>grape     </td><td>mango     </td><td>watermelon</td></tr>\n",
       "</tbody>\n",
       "</table>\n"
      ],
      "text/latex": [
       "\\begin{tabular}{llll}\n",
       "\t apple      & cherry     & orange     & pineapple \\\\\n",
       "\t banana     & grape      & mango      & watermelon\\\\\n",
       "\\end{tabular}\n"
      ],
      "text/markdown": [
       "\n",
       "| apple      | cherry     | orange     | pineapple  |\n",
       "| banana     | grape      | mango      | watermelon |\n",
       "\n"
      ],
      "text/plain": [
       "     [,1]   [,2]   [,3]   [,4]      \n",
       "[1,] apple  cherry orange pineapple \n",
       "[2,] banana grape  mango  watermelon"
      ]
     },
     "metadata": {},
     "output_type": "display_data"
    }
   ],
   "source": [
    "# Combine matrices\n",
    "Matrix1 <- matrix(c(\"apple\", \"banana\", \"cherry\", \"grape\"), nrow = 2, ncol = 2)\n",
    "Matrix2 <- matrix(c(\"orange\", \"mango\", \"pineapple\", \"watermelon\"), nrow = 2, ncol = 2)\n",
    "\n",
    "# Adding it as a rows\n",
    "Matrix_Combined <- rbind(Matrix1, Matrix2)\n",
    "Matrix_Combined\n",
    "\n",
    "# Adding it as a columns\n",
    "Matrix_Combined <- cbind(Matrix1, Matrix2)\n",
    "Matrix_Combined"
   ]
  },
  {
   "cell_type": "code",
   "execution_count": 1,
   "metadata": {},
   "outputs": [
    {
     "data": {
      "text/html": [
       "<table>\n",
       "<thead><tr><th scope=col>Training</th><th scope=col>Pulse</th><th scope=col>Duration</th></tr></thead>\n",
       "<tbody>\n",
       "\t<tr><td>Strength</td><td>100     </td><td>60      </td></tr>\n",
       "\t<tr><td>Stamina </td><td>150     </td><td>30      </td></tr>\n",
       "\t<tr><td>Other   </td><td>120     </td><td>45      </td></tr>\n",
       "</tbody>\n",
       "</table>\n"
      ],
      "text/latex": [
       "\\begin{tabular}{r|lll}\n",
       " Training & Pulse & Duration\\\\\n",
       "\\hline\n",
       "\t Strength & 100      & 60      \\\\\n",
       "\t Stamina  & 150      & 30      \\\\\n",
       "\t Other    & 120      & 45      \\\\\n",
       "\\end{tabular}\n"
      ],
      "text/markdown": [
       "\n",
       "| Training | Pulse | Duration |\n",
       "|---|---|---|\n",
       "| Strength | 100      | 60       |\n",
       "| Stamina  | 150      | 30       |\n",
       "| Other    | 120      | 45       |\n",
       "\n"
      ],
      "text/plain": [
       "  Training Pulse Duration\n",
       "1 Strength 100   60      \n",
       "2 Stamina  150   30      \n",
       "3 Other    120   45      "
      ]
     },
     "metadata": {},
     "output_type": "display_data"
    }
   ],
   "source": [
    "# Create a data frame\n",
    "Data_Frame <- data.frame (\n",
    "  Training = c(\"Strength\", \"Stamina\", \"Other\"),\n",
    "  Pulse = c(100, 150, 120),\n",
    "  Duration = c(60, 30, 45)\n",
    ")\n",
    "\n",
    "# Print the data frame\n",
    "Data_Frame"
   ]
  },
  {
   "cell_type": "code",
   "execution_count": 2,
   "metadata": {},
   "outputs": [
    {
     "data": {
      "text/html": [
       "<table>\n",
       "<thead><tr><th scope=col>Training</th><th scope=col>Pulse</th><th scope=col>Duration</th></tr></thead>\n",
       "<tbody>\n",
       "\t<tr><td>Strength</td><td>100     </td><td>60      </td></tr>\n",
       "\t<tr><td>Stamina </td><td>150     </td><td>30      </td></tr>\n",
       "\t<tr><td>Other   </td><td>120     </td><td>45      </td></tr>\n",
       "</tbody>\n",
       "</table>\n"
      ],
      "text/latex": [
       "\\begin{tabular}{r|lll}\n",
       " Training & Pulse & Duration\\\\\n",
       "\\hline\n",
       "\t Strength & 100      & 60      \\\\\n",
       "\t Stamina  & 150      & 30      \\\\\n",
       "\t Other    & 120      & 45      \\\\\n",
       "\\end{tabular}\n"
      ],
      "text/markdown": [
       "\n",
       "| Training | Pulse | Duration |\n",
       "|---|---|---|\n",
       "| Strength | 100      | 60       |\n",
       "| Stamina  | 150      | 30       |\n",
       "| Other    | 120      | 45       |\n",
       "\n"
      ],
      "text/plain": [
       "  Training Pulse Duration\n",
       "1 Strength 100   60      \n",
       "2 Stamina  150   30      \n",
       "3 Other    120   45      "
      ]
     },
     "metadata": {},
     "output_type": "display_data"
    },
    {
     "data": {
      "text/plain": [
       "     Training     Pulse          Duration   \n",
       " Other   :1   Min.   :100.0   Min.   :30.0  \n",
       " Stamina :1   1st Qu.:110.0   1st Qu.:37.5  \n",
       " Strength:1   Median :120.0   Median :45.0  \n",
       "              Mean   :123.3   Mean   :45.0  \n",
       "              3rd Qu.:135.0   3rd Qu.:52.5  \n",
       "              Max.   :150.0   Max.   :60.0  "
      ]
     },
     "metadata": {},
     "output_type": "display_data"
    }
   ],
   "source": [
    "Data_Frame <- data.frame (\n",
    "  Training = c(\"Strength\", \"Stamina\", \"Other\"),\n",
    "  Pulse = c(100, 150, 120),\n",
    "  Duration = c(60, 30, 45)\n",
    ")\n",
    "\n",
    "Data_Frame\n",
    "\n",
    "summary(Data_Frame)"
   ]
  },
  {
   "cell_type": "code",
   "execution_count": 3,
   "metadata": {},
   "outputs": [
    {
     "data": {
      "text/html": [
       "<table>\n",
       "<thead><tr><th scope=col>Training</th></tr></thead>\n",
       "<tbody>\n",
       "\t<tr><td>Strength</td></tr>\n",
       "\t<tr><td>Stamina </td></tr>\n",
       "\t<tr><td>Other   </td></tr>\n",
       "</tbody>\n",
       "</table>\n"
      ],
      "text/latex": [
       "\\begin{tabular}{r|l}\n",
       " Training\\\\\n",
       "\\hline\n",
       "\t Strength\\\\\n",
       "\t Stamina \\\\\n",
       "\t Other   \\\\\n",
       "\\end{tabular}\n"
      ],
      "text/markdown": [
       "\n",
       "| Training |\n",
       "|---|\n",
       "| Strength |\n",
       "| Stamina  |\n",
       "| Other    |\n",
       "\n"
      ],
      "text/plain": [
       "  Training\n",
       "1 Strength\n",
       "2 Stamina \n",
       "3 Other   "
      ]
     },
     "metadata": {},
     "output_type": "display_data"
    },
    {
     "data": {
      "text/html": [
       "<ol class=list-inline>\n",
       "\t<li>Strength</li>\n",
       "\t<li>Stamina</li>\n",
       "\t<li>Other</li>\n",
       "</ol>\n",
       "\n",
       "<details>\n",
       "\t<summary style=display:list-item;cursor:pointer>\n",
       "\t\t<strong>Levels</strong>:\n",
       "\t</summary>\n",
       "\t<ol class=list-inline>\n",
       "\t\t<li>'Other'</li>\n",
       "\t\t<li>'Stamina'</li>\n",
       "\t\t<li>'Strength'</li>\n",
       "\t</ol>\n",
       "</details>"
      ],
      "text/latex": [
       "\\begin{enumerate*}\n",
       "\\item Strength\n",
       "\\item Stamina\n",
       "\\item Other\n",
       "\\end{enumerate*}\n",
       "\n",
       "\\emph{Levels}: \\begin{enumerate*}\n",
       "\\item 'Other'\n",
       "\\item 'Stamina'\n",
       "\\item 'Strength'\n",
       "\\end{enumerate*}\n"
      ],
      "text/markdown": [
       "1. Strength\n",
       "2. Stamina\n",
       "3. Other\n",
       "\n",
       "\n",
       "\n",
       "**Levels**: 1. 'Other'\n",
       "2. 'Stamina'\n",
       "3. 'Strength'\n",
       "\n",
       "\n"
      ],
      "text/plain": [
       "[1] Strength Stamina  Other   \n",
       "Levels: Other Stamina Strength"
      ]
     },
     "metadata": {},
     "output_type": "display_data"
    },
    {
     "data": {
      "text/html": [
       "<ol class=list-inline>\n",
       "\t<li>Strength</li>\n",
       "\t<li>Stamina</li>\n",
       "\t<li>Other</li>\n",
       "</ol>\n",
       "\n",
       "<details>\n",
       "\t<summary style=display:list-item;cursor:pointer>\n",
       "\t\t<strong>Levels</strong>:\n",
       "\t</summary>\n",
       "\t<ol class=list-inline>\n",
       "\t\t<li>'Other'</li>\n",
       "\t\t<li>'Stamina'</li>\n",
       "\t\t<li>'Strength'</li>\n",
       "\t</ol>\n",
       "</details>"
      ],
      "text/latex": [
       "\\begin{enumerate*}\n",
       "\\item Strength\n",
       "\\item Stamina\n",
       "\\item Other\n",
       "\\end{enumerate*}\n",
       "\n",
       "\\emph{Levels}: \\begin{enumerate*}\n",
       "\\item 'Other'\n",
       "\\item 'Stamina'\n",
       "\\item 'Strength'\n",
       "\\end{enumerate*}\n"
      ],
      "text/markdown": [
       "1. Strength\n",
       "2. Stamina\n",
       "3. Other\n",
       "\n",
       "\n",
       "\n",
       "**Levels**: 1. 'Other'\n",
       "2. 'Stamina'\n",
       "3. 'Strength'\n",
       "\n",
       "\n"
      ],
      "text/plain": [
       "[1] Strength Stamina  Other   \n",
       "Levels: Other Stamina Strength"
      ]
     },
     "metadata": {},
     "output_type": "display_data"
    }
   ],
   "source": [
    "Data_Frame <- data.frame (\n",
    "  Training = c(\"Strength\", \"Stamina\", \"Other\"),\n",
    "  Pulse = c(100, 150, 120),\n",
    "  Duration = c(60, 30, 45)\n",
    ")\n",
    "\n",
    "Data_Frame[1]\n",
    "\n",
    "Data_Frame[[\"Training\"]]\n",
    "\n",
    "Data_Frame$Training"
   ]
  },
  {
   "cell_type": "markdown",
   "metadata": {},
   "source": [
    "Add Rows\n",
    "\n",
    "Use the rbind() function to add new rows in a Data Frame:"
   ]
  },
  {
   "cell_type": "code",
   "execution_count": 4,
   "metadata": {},
   "outputs": [
    {
     "data": {
      "text/html": [
       "<table>\n",
       "<thead><tr><th scope=col>Training</th><th scope=col>Pulse</th><th scope=col>Duration</th></tr></thead>\n",
       "<tbody>\n",
       "\t<tr><td>Strength</td><td>100     </td><td>60      </td></tr>\n",
       "\t<tr><td>Stamina </td><td>150     </td><td>30      </td></tr>\n",
       "\t<tr><td>Other   </td><td>120     </td><td>45      </td></tr>\n",
       "\t<tr><td>Strength</td><td>110     </td><td>110     </td></tr>\n",
       "</tbody>\n",
       "</table>\n"
      ],
      "text/latex": [
       "\\begin{tabular}{r|lll}\n",
       " Training & Pulse & Duration\\\\\n",
       "\\hline\n",
       "\t Strength & 100      & 60      \\\\\n",
       "\t Stamina  & 150      & 30      \\\\\n",
       "\t Other    & 120      & 45      \\\\\n",
       "\t Strength & 110      & 110     \\\\\n",
       "\\end{tabular}\n"
      ],
      "text/markdown": [
       "\n",
       "| Training | Pulse | Duration |\n",
       "|---|---|---|\n",
       "| Strength | 100      | 60       |\n",
       "| Stamina  | 150      | 30       |\n",
       "| Other    | 120      | 45       |\n",
       "| Strength | 110      | 110      |\n",
       "\n"
      ],
      "text/plain": [
       "  Training Pulse Duration\n",
       "1 Strength 100   60      \n",
       "2 Stamina  150   30      \n",
       "3 Other    120   45      \n",
       "4 Strength 110   110     "
      ]
     },
     "metadata": {},
     "output_type": "display_data"
    }
   ],
   "source": [
    "Data_Frame <- data.frame (\n",
    "  Training = c(\"Strength\", \"Stamina\", \"Other\"),\n",
    "  Pulse = c(100, 150, 120),\n",
    "  Duration = c(60, 30, 45)\n",
    ")\n",
    "\n",
    "# Add a new row\n",
    "New_row_DF <- rbind(Data_Frame, c(\"Strength\", 110, 110))\n",
    "\n",
    "# Print the new row\n",
    "New_row_DF"
   ]
  },
  {
   "cell_type": "code",
   "execution_count": 5,
   "metadata": {},
   "outputs": [
    {
     "data": {
      "text/html": [
       "<table>\n",
       "<thead><tr><th></th><th scope=col>Pulse</th><th scope=col>Duration</th></tr></thead>\n",
       "<tbody>\n",
       "\t<tr><th scope=row>2</th><td>150</td><td>30 </td></tr>\n",
       "\t<tr><th scope=row>3</th><td>120</td><td>45 </td></tr>\n",
       "</tbody>\n",
       "</table>\n"
      ],
      "text/latex": [
       "\\begin{tabular}{r|ll}\n",
       "  & Pulse & Duration\\\\\n",
       "\\hline\n",
       "\t2 & 150 & 30 \\\\\n",
       "\t3 & 120 & 45 \\\\\n",
       "\\end{tabular}\n"
      ],
      "text/markdown": [
       "\n",
       "| <!--/--> | Pulse | Duration |\n",
       "|---|---|---|\n",
       "| 2 | 150 | 30  |\n",
       "| 3 | 120 | 45  |\n",
       "\n"
      ],
      "text/plain": [
       "  Pulse Duration\n",
       "2 150   30      \n",
       "3 120   45      "
      ]
     },
     "metadata": {},
     "output_type": "display_data"
    }
   ],
   "source": [
    "Data_Frame <- data.frame (\n",
    "  Training = c(\"Strength\", \"Stamina\", \"Other\"),\n",
    "  Pulse = c(100, 150, 120),\n",
    "  Duration = c(60, 30, 45)\n",
    ")\n",
    "\n",
    "# Remove the first row and column\n",
    "Data_Frame_New <- Data_Frame[-c(1), -c(1)]\n",
    "\n",
    "# Print the new data frame\n",
    "Data_Frame_New"
   ]
  },
  {
   "cell_type": "code",
   "execution_count": 6,
   "metadata": {},
   "outputs": [
    {
     "data": {
      "text/html": [
       "<ol class=list-inline>\n",
       "\t<li>3</li>\n",
       "\t<li>3</li>\n",
       "</ol>\n"
      ],
      "text/latex": [
       "\\begin{enumerate*}\n",
       "\\item 3\n",
       "\\item 3\n",
       "\\end{enumerate*}\n"
      ],
      "text/markdown": [
       "1. 3\n",
       "2. 3\n",
       "\n",
       "\n"
      ],
      "text/plain": [
       "[1] 3 3"
      ]
     },
     "metadata": {},
     "output_type": "display_data"
    }
   ],
   "source": [
    "Data_Frame <- data.frame (\n",
    "  Training = c(\"Strength\", \"Stamina\", \"Other\"),\n",
    "  Pulse = c(100, 150, 120),\n",
    "  Duration = c(60, 30, 45)\n",
    ")\n",
    "\n",
    "dim(Data_Frame)"
   ]
  },
  {
   "cell_type": "code",
   "execution_count": 7,
   "metadata": {},
   "outputs": [
    {
     "data": {
      "text/html": [
       "3"
      ],
      "text/latex": [
       "3"
      ],
      "text/markdown": [
       "3"
      ],
      "text/plain": [
       "[1] 3"
      ]
     },
     "metadata": {},
     "output_type": "display_data"
    }
   ],
   "source": [
    "Data_Frame <- data.frame (\n",
    "  Training = c(\"Strength\", \"Stamina\", \"Other\"),\n",
    "  Pulse = c(100, 150, 120),\n",
    "  Duration = c(60, 30, 45)\n",
    ")\n",
    "\n",
    "length(Data_Frame)"
   ]
  },
  {
   "cell_type": "code",
   "execution_count": 8,
   "metadata": {},
   "outputs": [
    {
     "data": {
      "text/html": [
       "<table>\n",
       "<thead><tr><th scope=col>Training</th><th scope=col>Pulse</th><th scope=col>Duration</th><th scope=col>Steps</th><th scope=col>Calories</th></tr></thead>\n",
       "<tbody>\n",
       "\t<tr><td>Strength</td><td>100     </td><td>60      </td><td>3000    </td><td>300     </td></tr>\n",
       "\t<tr><td>Stamina </td><td>150     </td><td>30      </td><td>6000    </td><td>400     </td></tr>\n",
       "\t<tr><td>Other   </td><td>120     </td><td>45      </td><td>2000    </td><td>300     </td></tr>\n",
       "</tbody>\n",
       "</table>\n"
      ],
      "text/latex": [
       "\\begin{tabular}{r|lllll}\n",
       " Training & Pulse & Duration & Steps & Calories\\\\\n",
       "\\hline\n",
       "\t Strength & 100      & 60       & 3000     & 300     \\\\\n",
       "\t Stamina  & 150      & 30       & 6000     & 400     \\\\\n",
       "\t Other    & 120      & 45       & 2000     & 300     \\\\\n",
       "\\end{tabular}\n"
      ],
      "text/markdown": [
       "\n",
       "| Training | Pulse | Duration | Steps | Calories |\n",
       "|---|---|---|---|---|\n",
       "| Strength | 100      | 60       | 3000     | 300      |\n",
       "| Stamina  | 150      | 30       | 6000     | 400      |\n",
       "| Other    | 120      | 45       | 2000     | 300      |\n",
       "\n"
      ],
      "text/plain": [
       "  Training Pulse Duration Steps Calories\n",
       "1 Strength 100   60       3000  300     \n",
       "2 Stamina  150   30       6000  400     \n",
       "3 Other    120   45       2000  300     "
      ]
     },
     "metadata": {},
     "output_type": "display_data"
    }
   ],
   "source": [
    "Data_Frame3 <- data.frame (\n",
    "  Training = c(\"Strength\", \"Stamina\", \"Other\"),\n",
    "  Pulse = c(100, 150, 120),\n",
    "  Duration = c(60, 30, 45)\n",
    ")\n",
    "\n",
    "Data_Frame4 <- data.frame (\n",
    "  Steps = c(3000, 6000, 2000),\n",
    "  Calories = c(300, 400, 300)\n",
    ")\n",
    "\n",
    "New_Data_Frame1 <- cbind(Data_Frame3, Data_Frame4)\n",
    "New_Data_Frame1"
   ]
  },
  {
   "cell_type": "code",
   "execution_count": null,
   "metadata": {},
   "outputs": [],
   "source": []
  }
 ],
 "metadata": {
  "kernelspec": {
   "display_name": "R",
   "language": "R",
   "name": "ir"
  },
  "language_info": {
   "codemirror_mode": "r",
   "file_extension": ".r",
   "mimetype": "text/x-r-source",
   "name": "R",
   "pygments_lexer": "r",
   "version": "3.6.1"
  }
 },
 "nbformat": 4,
 "nbformat_minor": 4
}
